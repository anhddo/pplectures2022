{
 "cells": [
  {
   "cell_type": "markdown",
   "id": "a46a19be-3c80-4a8f-be39-de0c054255c8",
   "metadata": {},
   "source": [
    "### with queues\n",
    "\n",
    "asycnrhonous -- paired send and received not necessary.\n",
    "send first then receive works because of message buffering in the queue\n",
    "no way to make send synchronous with queues.\n",
    "\n",
    "problem with queues is need messaging queues for all pairs. requires a lot of state at scale."
   ]
  }
 ],
 "metadata": {
  "kernelspec": {
   "display_name": "Python 3 (ipykernel)",
   "language": "python",
   "name": "python3"
  },
  "language_info": {
   "codemirror_mode": {
    "name": "ipython",
    "version": 3
   },
   "file_extension": ".py",
   "mimetype": "text/x-python",
   "name": "python",
   "nbconvert_exporter": "python",
   "pygments_lexer": "ipython3",
   "version": "3.9.7"
  }
 },
 "nbformat": 4,
 "nbformat_minor": 5
}
