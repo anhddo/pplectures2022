{
 "cells": [
  {
   "cell_type": "markdown",
   "id": "795ea03b-7f3e-4e45-82a0-df12ce647a80",
   "metadata": {},
   "source": [
    "Ideas for class:\n",
    "  * have students do the ray tutorial\n",
    "  \n",
    "  \n",
    "Concepts (lecture):\n",
    "   * remote functions\n",
    "   * task dependencies"
   ]
  },
  {
   "cell_type": "code",
   "execution_count": null,
   "id": "986b823b-2667-4e20-8773-2d1181c90665",
   "metadata": {},
   "outputs": [],
   "source": []
  }
 ],
 "metadata": {
  "kernelspec": {
   "display_name": "Python 3 (ipykernel)",
   "language": "python",
   "name": "python3"
  },
  "language_info": {
   "codemirror_mode": {
    "name": "ipython",
    "version": 3
   },
   "file_extension": ".py",
   "mimetype": "text/x-python",
   "name": "python",
   "nbconvert_exporter": "python",
   "pygments_lexer": "ipython3",
   "version": "3.9.7"
  }
 },
 "nbformat": 4,
 "nbformat_minor": 5
}
