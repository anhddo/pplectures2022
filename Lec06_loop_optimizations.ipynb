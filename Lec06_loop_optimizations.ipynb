{
 "cells": [
  {
   "cell_type": "markdown",
   "metadata": {},
   "source": [
    "## Loop Optimization in OpenMP\n",
    "\n",
    "This lecture is almost all by example in file [stencil.c](./openmp/omp_c/stencil.c).  \n",
    "\n",
    "### Loop iteration order\n",
    "\n",
    "For 2-d dense data, the array must be serialized to memory, i.e. in a linear order.\n",
    "The serialization strategies are named by which dimension (row versus column) \n",
    "occurs sequentially in memory.\n",
    "\n",
    "<img src=\"https://upload.wikimedia.org/wikipedia/commons/4/4d/Row_and_column_major_order.svg\" width=256 title=\"Row versus column major order.\" />\n",
    "\n",
    "Choosing a memory efficient order for loops has a big impact on performance.\n",
    "  * Successive loop iterations access adjacent elements or\n",
    "  * Successive loop iterations access strided elements\n",
    "  \n",
    "The different orders are also associated with programming languages that use these conventions.\n",
    "  \n",
    "<img src=\"https://images.slideplayer.com/23/6540072/slides/slide_3.jpg\" width=512 title=\"from Edgar Gabriel at UH\" />\n",
    "\n",
    "There are many conventions about loop ordering and they get confusing.  Reason carefully about how the loops variables are enumerated and the data layout.  For example, images are almost always in Fortran order so that programming then in C looks weird."
   ]
  },
  {
   "cell_type": "markdown",
   "metadata": {},
   "source": [
    "### Sequential access in `stencil.c`\n",
    "\n",
    "We provide two routines that show the difference between sequential and strided access in C.\n",
    "\n",
    "Which of the following performs sequential access?\n",
    "\n",
    "```c\n",
    "void initializeyx ( double* array )\n",
    "{\n",
    "    /* Initialize the array to random values */\n",
    "    for (int y=0; y<DIM; y++) {\n",
    "        for (int x=0; x<DIM; x++) {\n",
    "            array[x*DIM+y] = (double)rand()/RAND_MAX;\n",
    "        }        \n",
    "    }\n",
    "}\n",
    "\n",
    "void initializexy ( double* array )\n",
    "{\n",
    "    /* Initialize the array to random values */\n",
    "    for (int x=0; x<DIM; x++) {\n",
    "        for (int y=0; y<DIM; y++) {\n",
    "            array[x*DIM+y] = (double)rand()/RAND_MAX;\n",
    "        }        \n",
    "    }\n",
    "}\n",
    "```"
   ]
  },
  {
   "cell_type": "markdown",
   "metadata": {},
   "source": [
    "### A Parallel Stencil\n",
    "\n",
    "A common pattern in numerical computing is to compute a [compact stencil](https://en.wikipedia.org/wiki/Compact_stencil). \n",
    "\n",
    "<img src=\"https://upload.wikimedia.org/wikipedia/commons/thumb/c/c5/CompactStencil.svg/300px-CompactStencil.svg.png\" width=256 title=\"Compact stencil.\" />\n",
    "\n",
    "The following function computes an average over a compact stencil at each (well defined) cell in a 2-d grid.  This computation pattern is used frequently in convoluation neural networks.\n",
    "\n",
    "```c\n",
    "void stencil_average ( double* input_ar, double* output_ar )\n",
    "{\n",
    "    double partial = 0.0;\n",
    "\n",
    "    for (int x=HWIDTH; x<DIM-HWIDTH; x++) {\n",
    "        for (int y=HWIDTH; y<DIM-HWIDTH; y++) {\n",
    "            for (int xs=-1*HWIDTH; xs<=HWIDTH; xs++) {\n",
    "                for (int ys=-1*HWIDTH; ys<=HWIDTH; ys++) {\n",
    "                    partial += input_ar[DIM*(x+xs)+(y+ys)];\n",
    "                }   \n",
    "            }   \n",
    "            output_ar[DIM*x+y] = partial/((2*HWIDTH+1)*(2*HWIDTH+1));\n",
    "            partial=0.0;\n",
    "        }       \n",
    "    }\n",
    "}\n",
    "```"
   ]
  },
  {
   "cell_type": "markdown",
   "metadata": {},
   "source": [
    "#### Manual Optimizations in `stencil.c`\n",
    "\n",
    "The file demonstrates successive optimizations to a loop. \n",
    "These are mostly considered compiler optimizations in CS, but \n",
    "for OpenMP it makes sense to do them by hand.\n",
    "\n",
    "### Loop Unrolling\n",
    "\n",
    "Loop unrolling is a time-space tradeoff typically made by compilers\n",
    "  * time: eliminate branching instructions in evaluating loop conditional\n",
    "  * space: make a bigger program with more statements\n",
    "\n",
    "This example unrolls the entire stencil (5x5) eliminating the two inner loops.\n",
    "  * how many instructions are saved?"
   ]
  },
  {
   "cell_type": "markdown",
   "metadata": {},
   "source": [
    "### Loop Fusion\n",
    "\n",
    "Replace multiple loops with a single one.\n",
    "* for OpenMP this reduces thread startup costs.\n",
    "* shown in `fused_stencil_sum_omp()`\n",
    "\n",
    "### Separate dependencies\n",
    "\n",
    "* Use reductions (shown in `max_el_reduce()`)\n",
    "  * Note the the compiler actually does a reasonable job of this at `-O3`\n",
    "\n",
    "### Other Optimizations\n",
    "\n",
    "* Split loops -- rarely effective\n",
    "\n"
   ]
  },
  {
   "cell_type": "markdown",
   "metadata": {},
   "source": [
    "### Loop Scheduling\n",
    "\n",
    "This is really an aside. I just want you to know that it exists.\n",
    "\n",
    "The full looping directive includes the specification of a scheduling directive and a chunk size\n",
    "```c\n",
    "#pragma omp parallel for schedule(kind [,chunk size])\n",
    "```\n",
    "in which schedule can be one of:\n",
    "* Static – divide loop into equal sized chunks\n",
    "* Dynamic — build internal work queue and dispatch blocksize at a time\n",
    "* Guided — dynamic scheduling with decreasing block size for load balance\n",
    "* Auto — compiler chooses from above\n",
    "* Runtime — runtime configuration chooses from above\n"
   ]
  },
  {
   "cell_type": "code",
   "execution_count": null,
   "metadata": {},
   "outputs": [],
   "source": [
    " "
   ]
  }
 ],
 "metadata": {
  "kernelspec": {
   "display_name": "Python 3",
   "language": "python",
   "name": "python3"
  },
  "language_info": {
   "codemirror_mode": {
    "name": "ipython",
    "version": 3
   },
   "file_extension": ".py",
   "mimetype": "text/x-python",
   "name": "python",
   "nbconvert_exporter": "python",
   "pygments_lexer": "ipython3",
   "version": "3.9.5"
  }
 },
 "nbformat": 4,
 "nbformat_minor": 4
}
